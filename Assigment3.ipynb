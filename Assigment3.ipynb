{
 "cells": [
  {
   "cell_type": "markdown",
   "metadata": {
    "collapsed": false
   },
   "source": [
    "# 5COM1056\n",
    "## Third Assignment: Genetic Algorithm\n",
    "\n",
    "Complete the code below (in Python 2) as explained in the assignment.\n",
    "\n",
    "The code given below also documents how the outcome should look like.\n",
    "\n",
    "### Grade and marking\n",
    "12.5% of total score in this module (1/4 of coursework).\n",
    "\n",
    "Full marks in each tasks will only be given for code that correctly solves the task. It is not sufficient to just make it pass the assertions - e.g. by coding the result directly into the functions.\n",
    "\n",
    "### Submission \n",
    "Submit your Ipython notebook (the \\*.ipynb file) as well as electronically on StudyNet __before December 19, 9am.__ \n",
    "\n",
    "Rename this notebook to *your_last_name*_assignment_3.ipynb. Then File -> Download as -> Notebook. It is very important to give your file the correct name. Failure to do so is penalized with 2 marks.\n",
    "\n",
    "In addition, please also supply a PDF copy of the notebook.\n",
    " * In Ipython v3 (university computers): Print this webpage as PDF. \n",
    " * In Ipython v4 (new versions of Ipython/Jupyter): Download your notebook as PDF. You may have to install additional packages, e.g. pandoc. If you use anaconda, you can do this by running `conda install pandoc` in a terminal. \n",
    " \n",
    "**Submit both the ipynb and pdf files.**\n",
    "\n",
    "\n",
    "### Note on plagiarism \n",
    "We strongly encourage that you help each other by discussing possible coding strategies. However, please do not share your solution code with others. \n",
    "\n",
    "The university takes plagiarism very seriously. Since we cannot trace who created plagiarised code first, *all* participants with duplicate code will receive *zero marks* (except for code bits that are too short or so straightforward that there is essentially only one way to do it). Therefore, it is safe and smart not to give your code to others who may copy it. "
   ]
  },
  {
   "cell_type": "markdown",
   "metadata": {},
   "source": [
    "## Preliminaries\n",
    "The following code is required to run the assignment code and does not need to be changed."
   ]
  },
  {
   "cell_type": "code",
   "execution_count": 8,
   "metadata": {
    "collapsed": true
   },
   "outputs": [],
   "source": [
    "import math\n",
    "from mpl_toolkits.mplot3d import Axes3D\n",
    "import matplotlib.pyplot as plt\n",
    "import numpy as np\n",
    "%matplotlib inline\n",
    "\n",
    "# the following code is provided and doesn't need to be changed.\n",
    "\n",
    "def selection(population,number_of_parameters):\n",
    "    '''\n",
    "    Rank the individuals of the population \n",
    "    '''\n",
    "    # we implement rank selection here, i.e. the self.size individuals with the highest fitness go to the next stage\n",
    "    # in the current implementation that simply means that we have to sort the population according to fitness \n",
    "    #(the last column)\n",
    "\n",
    "    population = population[population[:,number_of_parameters].argsort()] # this sorts the array with the individuals with the lowest fitness at the top (remember\n",
    "    # we want to minimize our function)\n",
    "    return population\n",
    "\n",
    "def evaluateFitness(population,capacity,number_of_parameters):\n",
    "    '''\n",
    "    Evaluate the fitness of  all individuals\n",
    "    '''\n",
    "    for i in range(capacity):\n",
    "        #print 'evaluation:',i\n",
    "        # take the parameters of the i-th individual and evaluate the fitness, save the fitness value in the last column \n",
    "        population[i,number_of_parameters] = fitness_function(population[i,0:number_of_parameters]) \n",
    "    return population\n",
    "\n",
    "def visualize(population,size):\n",
    "    '''\n",
    "    Visualize each individual of the population in a 3D plot. \n",
    "    The individual with the best fitness is marked with a red cross\n",
    "    '''\n",
    "    # Note: only works for two parameters (but that's all we need for this exercise)\n",
    "    fig = plt.figure()\n",
    "    ax3d = fig.add_subplot(111,projection='3d')\n",
    "    ax3d.scatter(population[1:size,0],population[1:size,1],population[1:size,2],c='k',marker='o') # plot all individuals in black with a 'o' marker\n",
    "    ax3d.scatter(population[0,0],population[0,1],population[0,2],c='r',marker='x') # plot the best individual in red with a 'x' marker\n",
    "    plt.show()"
   ]
  },
  {
   "cell_type": "markdown",
   "metadata": {},
   "source": [
    "## Task 1 — 1.5 marks\n",
    "Complete the code in `fitness_function`, so that it returns the value of\n",
    "\n",
    "$f(x,y) = 3 · x^2 + 4 · y^2$ ,\n",
    "\n",
    "as explained in the function definition. \n",
    "\n",
    "The cell below should produce no error when executed. \n"
   ]
  },
  {
   "cell_type": "code",
   "execution_count": 9,
   "metadata": {
    "collapsed": false
   },
   "outputs": [
    {
     "ename": "AssertionError",
     "evalue": "please check your implementation",
     "output_type": "error",
     "traceback": [
      "\u001b[0;31m---------------------------------------------------------------------------\u001b[0m",
      "\u001b[0;31mAssertionError\u001b[0m                            Traceback (most recent call last)",
      "\u001b[0;32m<ipython-input-9-63aa6f9bbc4d>\u001b[0m in \u001b[0;36m<module>\u001b[0;34m()\u001b[0m\n\u001b[1;32m     10\u001b[0m \u001b[0;31m###### don't change the code below\u001b[0m\u001b[0;34m\u001b[0m\u001b[0;34m\u001b[0m\u001b[0m\n\u001b[1;32m     11\u001b[0m \u001b[0;34m\u001b[0m\u001b[0m\n\u001b[0;32m---> 12\u001b[0;31m \u001b[0;32massert\u001b[0m \u001b[0mfitness_function\u001b[0m\u001b[0;34m(\u001b[0m\u001b[0;34m[\u001b[0m\u001b[0;36m3\u001b[0m\u001b[0;34m,\u001b[0m\u001b[0;36m4\u001b[0m\u001b[0;34m]\u001b[0m\u001b[0;34m)\u001b[0m \u001b[0;34m==\u001b[0m \u001b[0;36m91\u001b[0m\u001b[0;34m,\u001b[0m \u001b[0;34m'please check your implementation'\u001b[0m\u001b[0;34m\u001b[0m\u001b[0m\n\u001b[0m\u001b[1;32m     13\u001b[0m \u001b[0;32massert\u001b[0m \u001b[0mfitness_function\u001b[0m\u001b[0;34m(\u001b[0m\u001b[0;34m[\u001b[0m\u001b[0;36m3\u001b[0m\u001b[0;34m,\u001b[0m\u001b[0;36m2\u001b[0m\u001b[0;34m]\u001b[0m\u001b[0;34m)\u001b[0m \u001b[0;34m==\u001b[0m \u001b[0;36m43\u001b[0m\u001b[0;34m,\u001b[0m \u001b[0;34m'please check your implementation'\u001b[0m\u001b[0;34m\u001b[0m\u001b[0m\n\u001b[1;32m     14\u001b[0m \u001b[0;32massert\u001b[0m \u001b[0mfitness_function\u001b[0m\u001b[0;34m(\u001b[0m\u001b[0;34m[\u001b[0m\u001b[0;36m5\u001b[0m\u001b[0;34m,\u001b[0m\u001b[0;36m23\u001b[0m\u001b[0;34m]\u001b[0m\u001b[0;34m)\u001b[0m \u001b[0;34m==\u001b[0m \u001b[0;36m2191\u001b[0m\u001b[0;34m,\u001b[0m \u001b[0;34m'please check your implementation'\u001b[0m\u001b[0;34m\u001b[0m\u001b[0m\n",
      "\u001b[0;31mAssertionError\u001b[0m: please check your implementation"
     ]
    }
   ],
   "source": [
    "def fitness_function(params):# the function to optimize\n",
    "    \"\"\"\n",
    "    Computes the \"fitness\" of a set of parameters. The lower the fitness, the better.\n",
    "    \"\"\"\n",
    "    x = params[0]\n",
    "    y = params[1]\n",
    "    fitness = None # here you should replace None with the code for the function of x and y as above\n",
    "    return fitness \n",
    "\n",
    "###### don't change the code below\n",
    "\n",
    "assert fitness_function([3,4]) == 91, 'please check your implementation'\n",
    "assert fitness_function([3,2]) == 43, 'please check your implementation'\n",
    "assert fitness_function([5,23]) == 2191, 'please check your implementation'"
   ]
  },
  {
   "cell_type": "markdown",
   "metadata": {},
   "source": [
    "## Task 2 — 4 marks\n",
    "\n",
    "The mutation function takes a parameter population and performs a mutation on a random subset (of size $size*r_{mutation}$) of the population. The parameter population is a set of individuals, where each indivdual $i$ is a tuple of parameters $(x_i,y_i)$ which can be evaluated with the fitness_function from task 1. On each individual of the randomly selected subset, mutation should be performed in the following way: \n",
    "\n",
    "1) A mutation on a parameter of the individual is performed with a probability of $p_{mutation}$. \n",
    "\n",
    "2) If a mutation is performed on a parameter, then a randomly chosen number in the interval $[-0.5*s_{mutation},0.5*s_{mutation})$ is added to\n",
    "the current parameter value.\n",
    "\n",
    "3) The newly produced individuals are stored in the population array after the actual population\n",
    "\n",
    "Fill in the code in the mutation function below so that mutation on the population is performed as described above.\n"
   ]
  },
  {
   "cell_type": "code",
   "execution_count": 10,
   "metadata": {
    "collapsed": false
   },
   "outputs": [
    {
     "name": "stdout",
     "output_type": "stream",
     "text": [
      "5\n",
      "5\n",
      "5\n",
      "6\n",
      "6\n",
      "6\n",
      "7\n",
      "7\n",
      "7\n",
      "0\n",
      "0\n",
      "0\n",
      "9\n",
      "9\n",
      "9\n",
      "4\n",
      "4\n",
      "4\n",
      "2\n",
      "2\n",
      "2\n",
      "8\n",
      "8\n",
      "8\n",
      "3\n",
      "3\n",
      "3\n",
      "1\n",
      "1\n",
      "1\n"
     ]
    },
    {
     "ename": "AssertionError",
     "evalue": "please check your implementation",
     "output_type": "error",
     "traceback": [
      "\u001b[0;31m---------------------------------------------------------------------------\u001b[0m",
      "\u001b[0;31mAssertionError\u001b[0m                            Traceback (most recent call last)",
      "\u001b[0;32m<ipython-input-10-f28d3085ebd1>\u001b[0m in \u001b[0;36m<module>\u001b[0;34m()\u001b[0m\n\u001b[1;32m     40\u001b[0m \u001b[0;34m\u001b[0m\u001b[0m\n\u001b[1;32m     41\u001b[0m \u001b[0;34m\u001b[0m\u001b[0m\n\u001b[0;32m---> 42\u001b[0;31m \u001b[0;32massert\u001b[0m \u001b[0mmutation_population\u001b[0m\u001b[0;34m[\u001b[0m\u001b[0;36m10\u001b[0m\u001b[0;34m,\u001b[0m\u001b[0;36m0\u001b[0m\u001b[0;34m]\u001b[0m \u001b[0;34m!=\u001b[0m \u001b[0mpop\u001b[0m\u001b[0;34m[\u001b[0m\u001b[0;36m10\u001b[0m\u001b[0;34m,\u001b[0m\u001b[0;36m0\u001b[0m\u001b[0;34m]\u001b[0m\u001b[0;34m,\u001b[0m \u001b[0;34m'please check your implementation'\u001b[0m\u001b[0;34m\u001b[0m\u001b[0m\n\u001b[0m\u001b[1;32m     43\u001b[0m \u001b[0;32massert\u001b[0m \u001b[0mmutation_population\u001b[0m\u001b[0;34m[\u001b[0m\u001b[0;36m10\u001b[0m\u001b[0;34m,\u001b[0m\u001b[0;36m1\u001b[0m\u001b[0;34m]\u001b[0m \u001b[0;34m!=\u001b[0m \u001b[0mpop\u001b[0m\u001b[0;34m[\u001b[0m\u001b[0;36m10\u001b[0m\u001b[0;34m,\u001b[0m\u001b[0;36m1\u001b[0m\u001b[0;34m]\u001b[0m\u001b[0;34m,\u001b[0m \u001b[0;34m'please check your implementation'\u001b[0m\u001b[0;34m\u001b[0m\u001b[0m\n\u001b[1;32m     44\u001b[0m \u001b[0;32massert\u001b[0m \u001b[0mmutation_population\u001b[0m\u001b[0;34m[\u001b[0m\u001b[0;36m11\u001b[0m\u001b[0;34m,\u001b[0m\u001b[0;36m0\u001b[0m\u001b[0;34m]\u001b[0m \u001b[0;34m!=\u001b[0m \u001b[0mpop\u001b[0m\u001b[0;34m[\u001b[0m\u001b[0;36m11\u001b[0m\u001b[0;34m,\u001b[0m\u001b[0;36m0\u001b[0m\u001b[0;34m]\u001b[0m\u001b[0;34m,\u001b[0m \u001b[0;34m'please check your implementation'\u001b[0m\u001b[0;34m\u001b[0m\u001b[0m\n",
      "\u001b[0;31mAssertionError\u001b[0m: please check your implementation"
     ]
    }
   ],
   "source": [
    "def mutation(population, size, r_mutation, p_mutation, s_mutation, number_of_parameters):\n",
    "    '''\n",
    "    mutation - mutate a random subset of the population\n",
    "    Parameters:\n",
    "    population - the population from the current generation\n",
    "    (We simply represent the parameters as a numpy array, and initialize it with random numbers\n",
    "    the first size rows represent the actual population, the rest gets filled during mutation and crossover\n",
    "    the first number_of_parameters columns contain the parameters, the last column contains the fitness value)\n",
    "    size - the size of the population\n",
    "    r_mutation - the percentage of individuals from the population that undergo mutation\n",
    "    p_mutation - the probability of a mutation of a single parameter of an individual\n",
    "    s_mutation - the strength of the mutation\n",
    "    number_of_parameters - the number of parameters each individual has\n",
    "    '''\n",
    "    # choose a random subset of the population which will undergo mutation\n",
    "    cutoff = int(size*r_mutation) # this is the number of individuals that will undergo mutation\n",
    "    indices = np.arange(size)\n",
    "    np.random.shuffle(indices)\n",
    "    mutation_set = indices[:cutoff] # these are the indices of the randomly chosen individuals that will undergo\n",
    "                                    # mutation\n",
    "\n",
    "    for i in mutation_set: # loop through all individuals that undergo mutation\n",
    "        for j in range(number_of_parameters): # loop through all parameters of each individual\n",
    "            print i\n",
    "            # here you should place your code for task 2); \n",
    "            # the comments in the following lines give you a hint of what you are supposed to do\n",
    "            \n",
    "            # draw a random number in the interval [0,1)\n",
    "            # decide whether to mutate or not\n",
    "                # translate r to [-0.5,0.5)\n",
    "            # perform mutation, i.e. change the value at position i,j by r*s_mutation and write it to the correct position \n",
    "            # in the array!\n",
    "            \n",
    "    return population\n",
    "\n",
    "\n",
    "###### don't change the code below\n",
    "population = np.random.random_sample((25,3)) \n",
    "pop = np.array(population) \n",
    "mutation_population = mutation(population,10,1.0,1.0,1.0,2)\n",
    "\n",
    "\n",
    "assert mutation_population[10,0] != pop[10,0], 'please check your implementation'\n",
    "assert mutation_population[10,1] != pop[10,1], 'please check your implementation'\n",
    "assert mutation_population[11,0] != pop[11,0], 'please check your implementation'\n",
    "assert mutation_population[11,1] != pop[11,1], 'please check your implementation'\n",
    "assert mutation_population[12,0] != pop[12,0], 'please check your implementation'\n",
    "assert mutation_population[12,1] != pop[12,1], 'please check your implementation'\n",
    "assert mutation_population[13,0] != pop[13,0], 'please check your implementation'\n",
    "assert mutation_population[13,1] != pop[13,1], 'please check your implementation'\n",
    "assert mutation_population[14,0] != pop[14,0], 'please check your implementation'\n",
    "assert mutation_population[14,1] != pop[14,1], 'please check your implementation'"
   ]
  },
  {
   "cell_type": "markdown",
   "metadata": {},
   "source": [
    "## Task 3 — 4 marks\n",
    "\n",
    "The crossover function takes a parameter population and chooses a random set of individuals (of size $size*r_crossover$) which serve as parents for the crossover. For each pair of parents one offspring is produced.\n",
    "Each parameter of the offspring is either from parent 1 or parent 2 with a probability of 50:50.\n",
    "The newly produced offspring are stored in the population array after the actual population and the mutated individuals.\n",
    "\n",
    "Fill in the code in the crossover function below so that crossover on the population is performed as described above.\n"
   ]
  },
  {
   "cell_type": "code",
   "execution_count": 11,
   "metadata": {
    "collapsed": false
   },
   "outputs": [
    {
     "ename": "AssertionError",
     "evalue": "please check your implementation",
     "output_type": "error",
     "traceback": [
      "\u001b[0;31m---------------------------------------------------------------------------\u001b[0m",
      "\u001b[0;31mAssertionError\u001b[0m                            Traceback (most recent call last)",
      "\u001b[0;32m<ipython-input-11-7c6418e177e8>\u001b[0m in \u001b[0;36m<module>\u001b[0;34m()\u001b[0m\n\u001b[1;32m     44\u001b[0m \u001b[0;34m\u001b[0m\u001b[0m\n\u001b[1;32m     45\u001b[0m \u001b[0;34m\u001b[0m\u001b[0m\n\u001b[0;32m---> 46\u001b[0;31m \u001b[0;32massert\u001b[0m \u001b[0mcrossover_population\u001b[0m\u001b[0;34m[\u001b[0m\u001b[0;36m20\u001b[0m\u001b[0;34m,\u001b[0m\u001b[0;36m0\u001b[0m\u001b[0;34m]\u001b[0m \u001b[0;34m!=\u001b[0m \u001b[0mpop\u001b[0m\u001b[0;34m[\u001b[0m\u001b[0;36m20\u001b[0m\u001b[0;34m,\u001b[0m\u001b[0;36m0\u001b[0m\u001b[0;34m]\u001b[0m\u001b[0;34m,\u001b[0m \u001b[0;34m'please check your implementation'\u001b[0m\u001b[0;34m\u001b[0m\u001b[0m\n\u001b[0m\u001b[1;32m     47\u001b[0m \u001b[0;32massert\u001b[0m \u001b[0mcrossover_population\u001b[0m\u001b[0;34m[\u001b[0m\u001b[0;36m20\u001b[0m\u001b[0;34m,\u001b[0m\u001b[0;36m1\u001b[0m\u001b[0;34m]\u001b[0m \u001b[0;34m!=\u001b[0m \u001b[0mpop\u001b[0m\u001b[0;34m[\u001b[0m\u001b[0;36m20\u001b[0m\u001b[0;34m,\u001b[0m\u001b[0;36m1\u001b[0m\u001b[0;34m]\u001b[0m\u001b[0;34m,\u001b[0m \u001b[0;34m'please check your implementation'\u001b[0m\u001b[0;34m\u001b[0m\u001b[0m\n\u001b[1;32m     48\u001b[0m \u001b[0;32massert\u001b[0m \u001b[0mcrossover_population\u001b[0m\u001b[0;34m[\u001b[0m\u001b[0;36m21\u001b[0m\u001b[0;34m,\u001b[0m\u001b[0;36m0\u001b[0m\u001b[0;34m]\u001b[0m \u001b[0;34m!=\u001b[0m \u001b[0mpop\u001b[0m\u001b[0;34m[\u001b[0m\u001b[0;36m21\u001b[0m\u001b[0;34m,\u001b[0m\u001b[0;36m0\u001b[0m\u001b[0;34m]\u001b[0m\u001b[0;34m,\u001b[0m \u001b[0;34m'please check your implementation'\u001b[0m\u001b[0;34m\u001b[0m\u001b[0m\n",
      "\u001b[0;31mAssertionError\u001b[0m: please check your implementation"
     ]
    }
   ],
   "source": [
    "def crossover(population,size,r_crossover,r_mutation,number_of_parameters):\n",
    "    '''\n",
    "     crossover - Choose a random subset of the population, select parent pairs and produce offspring\n",
    "    Parameters:\n",
    "    population - the population from the current generation\n",
    "    (We simply represent the parameters as a numpy array, and initialize it with random numbers\n",
    "    the first size rows represent the actual population, the rest gets filled during mutation and crossover\n",
    "    the first number_of_parameters columns contain the parameters, the last column contains the fitness value)\n",
    "    size - the size of the population)\n",
    "    r_crossover - the percentage of individuals from the population that serve as parents for crossover\n",
    "    r_mutation - the percentage of individuals from the population that undergo mutation (needed in order\n",
    "    to correctly store the newly produced offspring!)\n",
    "    number_of_parameters - the number of parameters each individual has\n",
    "    '''\n",
    "    # At the moment, when we do the crossover, the population is already sorted according to fitness values!\n",
    "    cutoff = int(size*r_crossover) # this is the number of individuals that will undergo crossover\n",
    "    crossover_set = np.arange(cutoff) # these are the indices of the self.r_crossover % individuals that will undergo crossover\n",
    "\n",
    "    n = 0\n",
    "    while n<cutoff:\n",
    "        individual_a = np.random.choice(crossover_set) # randomly choose the first individual\n",
    "        crossover_set = [x for x in crossover_set if x not in [individual_a]] # remove the individual from the set\n",
    "        individual_b = np.random.choice(crossover_set) # randomly choose the second individual from the remaining set\n",
    "        crossover_set = [x for x in crossover_set if x not in [individual_b]] # remove the individual from the set\n",
    "        # perform the actual crossover\n",
    "        \n",
    "        # here you should place your code for task 3); \n",
    "        # the comments in the following lines give you a hint of what you are supposed to do\n",
    "        \n",
    "        # loop through all parameters\n",
    "            # draw a random number in (0,1)\n",
    "            # if r < 0.5 then take parameter from individual_a\n",
    "                # write the parameter to the correct position\n",
    "            # otherwise from individual_b\n",
    "                # write the parameter to the correct position\n",
    "\n",
    "        n = n+2 # increase counter by 2, since we have chosen 2 individuals\n",
    "    return population\n",
    "\n",
    "###### don't change the code below\n",
    "population = np.random.random_sample((25,3)) \n",
    "pop = np.array(population) \n",
    "crossover_population = crossover(population,10,1.0,1.0,2)\n",
    "\n",
    "\n",
    "assert crossover_population[20,0] != pop[20,0], 'please check your implementation'\n",
    "assert crossover_population[20,1] != pop[20,1], 'please check your implementation'\n",
    "assert crossover_population[21,0] != pop[21,0], 'please check your implementation'\n",
    "assert crossover_population[21,1] != pop[21,1], 'please check your implementation'\n",
    "assert crossover_population[22,0] != pop[22,0], 'please check your implementation'\n",
    "assert crossover_population[22,1] != pop[22,1], 'please check your implementation'\n",
    "assert crossover_population[23,0] != pop[23,0], 'please check your implementation'\n",
    "assert crossover_population[23,1] != pop[23,1], 'please check your implementation'"
   ]
  },
  {
   "cell_type": "markdown",
   "metadata": {},
   "source": [
    "## Task 4 — 3 marks\n",
    "\n",
    "The evolve function takes the initial population and evolves the population over the number of generations, executing the above functions crossover, selection, mutation and evaluation in the correct order. Make sure you call each function with the correct parameters.\n",
    "\n",
    "Fill in the code in the evolve function below so that the genetic algortihm is evolved as described above."
   ]
  },
  {
   "cell_type": "code",
   "execution_count": 12,
   "metadata": {
    "collapsed": false
   },
   "outputs": [
    {
     "name": "stdout",
     "output_type": "stream",
     "text": [
      "0\n",
      "1\n",
      "2\n",
      "3\n",
      "4\n",
      "5\n",
      "6\n",
      "7\n",
      "8\n",
      "9\n",
      "10\n",
      "11\n",
      "12\n",
      "13\n",
      "14\n",
      "15\n",
      "16\n",
      "17\n",
      "18\n",
      "19\n"
     ]
    },
    {
     "data": {
      "image/png": "[encoded data removed]",
      "text/plain": [
       "<matplotlib.figure.Figure at 0x7f577bd67290>"
      ]
     },
     "metadata": {},
     "output_type": "display_data"
    },
    {
     "ename": "AssertionError",
     "evalue": "please check your implementation",
     "output_type": "error",
     "traceback": [
      "\u001b[0;31m---------------------------------------------------------------------------\u001b[0m",
      "\u001b[0;31mAssertionError\u001b[0m                            Traceback (most recent call last)",
      "\u001b[0;32m<ipython-input-12-46d4fef1d71d>\u001b[0m in \u001b[0;36m<module>\u001b[0;34m()\u001b[0m\n\u001b[1;32m     45\u001b[0m \u001b[0;31m###### don't change the code below\u001b[0m\u001b[0;34m\u001b[0m\u001b[0;34m\u001b[0m\u001b[0m\n\u001b[1;32m     46\u001b[0m \u001b[0;34m\u001b[0m\u001b[0m\n\u001b[0;32m---> 47\u001b[0;31m \u001b[0;32massert\u001b[0m \u001b[0mfinal_population\u001b[0m\u001b[0;34m[\u001b[0m\u001b[0;36m0\u001b[0m\u001b[0;34m,\u001b[0m\u001b[0;36m2\u001b[0m\u001b[0;34m]\u001b[0m \u001b[0;34m<\u001b[0m \u001b[0;36m0.001\u001b[0m\u001b[0;34m,\u001b[0m \u001b[0;34m'please check your implementation'\u001b[0m\u001b[0;34m\u001b[0m\u001b[0m\n\u001b[0m\u001b[1;32m     48\u001b[0m \u001b[0;32massert\u001b[0m \u001b[0mfinal_population\u001b[0m\u001b[0;34m[\u001b[0m\u001b[0;36m1\u001b[0m\u001b[0;34m,\u001b[0m\u001b[0;36m2\u001b[0m\u001b[0;34m]\u001b[0m \u001b[0;34m<\u001b[0m \u001b[0;36m0.001\u001b[0m\u001b[0;34m,\u001b[0m \u001b[0;34m'please check your implementation'\u001b[0m\u001b[0;34m\u001b[0m\u001b[0m\n\u001b[1;32m     49\u001b[0m \u001b[0;32massert\u001b[0m \u001b[0mfinal_population\u001b[0m\u001b[0;34m[\u001b[0m\u001b[0;36m2\u001b[0m\u001b[0;34m,\u001b[0m\u001b[0;36m2\u001b[0m\u001b[0;34m]\u001b[0m \u001b[0;34m<\u001b[0m \u001b[0;36m0.001\u001b[0m\u001b[0;34m,\u001b[0m \u001b[0;34m'please check your implementation'\u001b[0m\u001b[0;34m\u001b[0m\u001b[0m\n",
      "\u001b[0;31mAssertionError\u001b[0m: please check your implementation"
     ]
    }
   ],
   "source": [
    "def evolve(population,size,r_mutation,p_mutation,s_mutation,r_crossover,capacity,number_of_parameters,number_of_generations):\n",
    "    '''\n",
    "    evolve - evolves the genetic algorithm for the specified number of generations\n",
    "    Parameters:\n",
    "    population - the population from the current generation\n",
    "    size - the size of the population\n",
    "    r_mutation - the percentage of individuals from the population that undergo mutation\n",
    "    p_mutation - the probability of a mutation of a single parameter of an individual\n",
    "    s_mutation - the strength of the mutation\n",
    "    r_crossover - the percentage of individuals from the population that serve as parents for the crossover\n",
    "    capacity - the overall size of the population array (includes the actual population, the newly mutated individuals\n",
    "    and the newly produced offspring)\n",
    "    number_of_parameters - the number of parameters each individual has\n",
    "    number_of_generations - the number of generations the genetic algorithm will be evolved\n",
    "    '''\n",
    "    for i in range(number_of_generations):\n",
    "        print i # print the current generation number\n",
    "        # here you should place your code for task 4)\n",
    "        # decide in which order the functions have to be called\n",
    "        # call them and give them the correct parameters as arguments\n",
    "    visualize(population,size)\n",
    "    return population\n",
    "\n",
    "\n",
    "\n",
    "\n",
    "size = 100 # the size of the population\n",
    "number_of_parameters = 2 # the number of parameters the function takes\n",
    "number_of_generations = 20 # number of generations that are executed\n",
    "p_mutation  = 0.5 # the probability of a mutation\n",
    "r_mutation  = 0.2 # the percentage of individuals that undergo mutation\n",
    "s_mutation  = 1.25 # the mutation strength\n",
    "r_crossover = 0.4 # the percentage of individuals that undergo crossover\n",
    "\n",
    "capacity = size + int(size*r_mutation) + int(size*r_crossover/2.0) # this is the size of the population after crossover and selection\n",
    "\n",
    "# We simply represent the parameters as a numpy array, and initialize it with random numbers\n",
    "# the first size rows represent the actual population, the rest gets filled during mutation and crossover\n",
    "# the first number_of_parameters columns contain the parameters, the last column contains the fitness value\n",
    "population = np.random.random_sample((capacity,number_of_parameters+1)) \n",
    "\n",
    "final_population = evolve(population,size,r_mutation,p_mutation,s_mutation,r_crossover,capacity,number_of_parameters,number_of_generations)\n",
    "\n",
    "\n",
    "###### don't change the code below\n",
    "\n",
    "assert final_population[0,2] < 0.001, 'please check your implementation'\n",
    "assert final_population[1,2] < 0.001, 'please check your implementation'\n",
    "assert final_population[2,2] < 0.001, 'please check your implementation'\n",
    "assert final_population[3,2] < 0.001, 'please check your implementation'\n",
    "assert final_population[4,2] < 0.001, 'please check your implementation'\n",
    "\n",
    "\n"
   ]
  },
  {
   "cell_type": "code",
   "execution_count": null,
   "metadata": {
    "collapsed": true
   },
   "outputs": [],
   "source": []
  }
 ],
 "metadata": {
  "kernelspec": {
   "display_name": "Python 2",
   "language": "python",
   "name": "python2"
  },
  "language_info": {
   "codemirror_mode": {
    "name": "ipython",
    "version": 2
   },
   "file_extension": ".py",
   "mimetype": "text/x-python",
   "name": "python",
   "nbconvert_exporter": "python",
   "pygments_lexer": "ipython2",
   "version": "2.7.9"
  }
 },
 "nbformat": 4,
 "nbformat_minor": 0
}
