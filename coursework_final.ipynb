{
 "cells": [
  {
   "cell_type": "code",
   "execution_count": 48,
   "metadata": {
    "collapsed": true
   },
   "outputs": [],
   "source": [
    "import pandas as pd\n",
    "import numpy as np\n",
    "from sklearn.metrics import classification_report"
   ]
  },
  {
   "cell_type": "code",
   "execution_count": 49,
   "metadata": {
    "collapsed": true
   },
   "outputs": [],
   "source": [
    "ds = ws.datasets['Hz-CTU13_6.csv']\n",
    "datat = ds.to_dataframe()\n",
    "\n",
    "ds = ws.datasets['Hz-CTU13_1.csv']\n",
    "data = ds.to_dataframe()"
   ]
  },
  {
   "cell_type": "code",
   "execution_count": 51,
   "metadata": {},
   "outputs": [
    {
     "name": "stdout",
     "output_type": "stream",
     "text": [
      "(12955, 204)\n",
      "(1492, 204)\n"
     ]
    }
   ],
   "source": [
    "print(data.shape)\n",
    "print(datat.shape)"
   ]
  },
  {
   "cell_type": "code",
   "execution_count": 52,
   "metadata": {
    "collapsed": true
   },
   "outputs": [],
   "source": [
    "def ip_to_num(ip):\n",
    "    rs = 0\n",
    "    ip = ip.split('.')\n",
    "    rs += int(ip[0]) << 24\n",
    "    rs += int(ip[1]) << 16\n",
    "    rs += int(ip[2]) << 8\n",
    "    rs += int(ip[3])\n",
    "    return rs"
   ]
  },
  {
   "cell_type": "code",
   "execution_count": 53,
   "metadata": {
    "collapsed": true
   },
   "outputs": [],
   "source": [
    "data[['src', 'dst']] = data[['src', 'dst']].applymap(ip_to_num)"
   ]
  },
  {
   "cell_type": "code",
   "execution_count": 54,
   "metadata": {
    "collapsed": true
   },
   "outputs": [],
   "source": [
    "datat[['src', 'dst']] = datat[['src', 'dst']].applymap(ip_to_num)"
   ]
  },
  {
   "cell_type": "code",
   "execution_count": 98,
   "metadata": {},
   "outputs": [
    {
     "data": {
      "text/html": [
       "<div>\n",
       "<table border=\"1\" class=\"dataframe\">\n",
       "  <thead>\n",
       "    <tr style=\"text-align: right;\">\n",
       "      <th></th>\n",
       "      <th>src</th>\n",
       "      <th>dst</th>\n",
       "    </tr>\n",
       "  </thead>\n",
       "  <tbody>\n",
       "    <tr>\n",
       "      <th>0</th>\n",
       "      <td>2468369573</td>\n",
       "      <td>1540655006</td>\n",
       "    </tr>\n",
       "    <tr>\n",
       "      <th>1</th>\n",
       "      <td>2468369573</td>\n",
       "      <td>2468368393</td>\n",
       "    </tr>\n",
       "    <tr>\n",
       "      <th>2</th>\n",
       "      <td>2468369573</td>\n",
       "      <td>2468368393</td>\n",
       "    </tr>\n",
       "    <tr>\n",
       "      <th>3</th>\n",
       "      <td>2468369573</td>\n",
       "      <td>1540655006</td>\n",
       "    </tr>\n",
       "    <tr>\n",
       "      <th>4</th>\n",
       "      <td>2468369573</td>\n",
       "      <td>1146766602</td>\n",
       "    </tr>\n",
       "  </tbody>\n",
       "</table>\n",
       "</div>"
      ],
      "text/plain": [
       "          src         dst\n",
       "0  2468369573  1540655006\n",
       "1  2468369573  2468368393\n",
       "2  2468369573  2468368393\n",
       "3  2468369573  1540655006\n",
       "4  2468369573  1146766602"
      ]
     },
     "execution_count": 98,
     "metadata": {},
     "output_type": "execute_result"
    }
   ],
   "source": [
    "datat[['src', 'dst']].head()"
   ]
  },
  {
   "cell_type": "code",
   "execution_count": 55,
   "metadata": {},
   "outputs": [
    {
     "name": "stdout",
     "output_type": "stream",
     "text": [
      "0 UDP\n",
      "1 TCP\n",
      "2 254\n",
      "3 ICMP\n"
     ]
    }
   ],
   "source": [
    "lst = list(data['protocol'].unique())\n",
    "dct = {}\n",
    "\n",
    "for i, item in enumerate(lst):\n",
    "    print(i, item)\n",
    "    dct[item] = i\n",
    "    \n",
    "data.replace({'protocol': dct}, inplace=True)"
   ]
  },
  {
   "cell_type": "code",
   "execution_count": 56,
   "metadata": {},
   "outputs": [
    {
     "name": "stdout",
     "output_type": "stream",
     "text": [
      "0 TCP\n",
      "1 UDP\n",
      "2 ICMP\n"
     ]
    }
   ],
   "source": [
    "lst = list(datat['protocol'].unique())\n",
    "dct = {}\n",
    "\n",
    "for i, item in enumerate(lst):\n",
    "    print(i, item)\n",
    "    dct[item] = i\n",
    "    \n",
    "datat.replace({'protocol': dct}, inplace=True)"
   ]
  },
  {
   "cell_type": "code",
   "execution_count": 57,
   "metadata": {},
   "outputs": [
    {
     "data": {
      "text/html": [
       "<div>\n",
       "<table border=\"1\" class=\"dataframe\">\n",
       "  <thead>\n",
       "    <tr style=\"text-align: right;\">\n",
       "      <th></th>\n",
       "      <th>src</th>\n",
       "      <th>dst</th>\n",
       "      <th>protocol</th>\n",
       "    </tr>\n",
       "  </thead>\n",
       "  <tbody>\n",
       "    <tr>\n",
       "      <th>0</th>\n",
       "      <td>2468369573</td>\n",
       "      <td>2468369663</td>\n",
       "      <td>0</td>\n",
       "    </tr>\n",
       "    <tr>\n",
       "      <th>1</th>\n",
       "      <td>2468369573</td>\n",
       "      <td>2468368393</td>\n",
       "      <td>0</td>\n",
       "    </tr>\n",
       "    <tr>\n",
       "      <th>2</th>\n",
       "      <td>2468369573</td>\n",
       "      <td>1249765571</td>\n",
       "      <td>1</td>\n",
       "    </tr>\n",
       "    <tr>\n",
       "      <th>3</th>\n",
       "      <td>2468369573</td>\n",
       "      <td>2468369663</td>\n",
       "      <td>0</td>\n",
       "    </tr>\n",
       "    <tr>\n",
       "      <th>4</th>\n",
       "      <td>2468369573</td>\n",
       "      <td>4026531834</td>\n",
       "      <td>0</td>\n",
       "    </tr>\n",
       "  </tbody>\n",
       "</table>\n",
       "</div>"
      ],
      "text/plain": [
       "          src         dst  protocol\n",
       "0  2468369573  2468369663         0\n",
       "1  2468369573  2468368393         0\n",
       "2  2468369573  1249765571         1\n",
       "3  2468369573  2468369663         0\n",
       "4  2468369573  4026531834         0"
      ]
     },
     "execution_count": 57,
     "metadata": {},
     "output_type": "execute_result"
    }
   ],
   "source": [
    "data[['src', 'dst', 'protocol']].head()"
   ]
  },
  {
   "cell_type": "code",
   "execution_count": null,
   "metadata": {
    "collapsed": true
   },
   "outputs": [],
   "source": [
    "data['original_label'] = data['original_label'].str.split(\"-\").str[1]\n",
    "data.loc[datat['original_label'] != 'Botnet', 'original_label'] = 0\n",
    "data.loc[datat['original_label'] == 'Botnet', 'original_label'] = 1\n",
    "data['original_label'] = data['original_label'].astype(int)"
   ]
  },
  {
   "cell_type": "code",
   "execution_count": 59,
   "metadata": {},
   "outputs": [],
   "source": [
    "datat['original_label'] = datat['original_label'].str.split(\"-\").str[1]\n",
    "datat.loc[datat['original_label'] != 'Botnet', 'original_label'] = 0\n",
    "datat.loc[datat['original_label'] == 'Botnet', 'original_label'] = 1\n",
    "datat['original_label'] = datat['original_label'].astype(int)"
   ]
  },
  {
   "cell_type": "code",
   "execution_count": 60,
   "metadata": {},
   "outputs": [
    {
     "name": "stdout",
     "output_type": "stream",
     "text": [
      "[0 1]\n"
     ]
    }
   ],
   "source": [
    "print(data['original_label'].unique())"
   ]
  },
  {
   "cell_type": "code",
   "execution_count": 61,
   "metadata": {
    "collapsed": true
   },
   "outputs": [],
   "source": [
    "data.drop(['original_dataset', 'event_generator', 'event_signature', 'event_priority'], axis=1, inplace=True)"
   ]
  },
  {
   "cell_type": "code",
   "execution_count": 62,
   "metadata": {
    "collapsed": true
   },
   "outputs": [],
   "source": [
    "datat.drop(['original_dataset', 'event_generator', 'event_signature', 'event_priority'], axis=1, inplace=True)"
   ]
  },
  {
   "cell_type": "code",
   "execution_count": 63,
   "metadata": {
    "collapsed": true
   },
   "outputs": [],
   "source": [
    "res = data['original_label']\n",
    "data.drop('original_label', inplace=True, axis=1)"
   ]
  },
  {
   "cell_type": "code",
   "execution_count": 64,
   "metadata": {
    "collapsed": true
   },
   "outputs": [],
   "source": [
    "rest = datat['original_label']\n",
    "datat.drop('original_label', inplace=True, axis=1)"
   ]
  },
  {
   "cell_type": "code",
   "execution_count": 65,
   "metadata": {},
   "outputs": [
    {
     "name": "stdout",
     "output_type": "stream",
     "text": [
      "(12955, 199) (12955,)\n",
      "(1492, 199) (1492,)\n"
     ]
    }
   ],
   "source": [
    "print(data.shape, res.shape)\n",
    "print(datat.shape, rest.shape)"
   ]
  },
  {
   "cell_type": "code",
   "execution_count": 66,
   "metadata": {
    "collapsed": true
   },
   "outputs": [],
   "source": [
    "#feature extraction\n",
    "\n",
    "data = data[['protocol', 'src', 'src_port', 'dst', 'dst_port', 'packets', 'bytes', 'flow_duration', 'inter_time_avg',\n",
    "             'response_rel_time', 'C_duration_avg', 'C_number_of_contacts', 'dst2src_packets', 'src2dst_packets_rate']]"
   ]
  },
  {
   "cell_type": "code",
   "execution_count": 67,
   "metadata": {
    "collapsed": true
   },
   "outputs": [],
   "source": [
    "datat = datat[['protocol', 'src', 'src_port', 'dst', 'dst_port', 'packets', 'bytes', 'flow_duration', 'inter_time_avg',\n",
    "             'response_rel_time', 'C_duration_avg', 'C_number_of_contacts', 'dst2src_packets', 'src2dst_packets_rate']]"
   ]
  },
  {
   "cell_type": "code",
   "execution_count": 68,
   "metadata": {
    "collapsed": true
   },
   "outputs": [],
   "source": [
    "categorical_columns = [c for c in data.columns if data[c].dtype.name == 'object'] \n",
    "numerical_columns   = [c for c in data.columns if data[c].dtype.name != 'object'] "
   ]
  },
  {
   "cell_type": "code",
   "execution_count": 69,
   "metadata": {
    "collapsed": true
   },
   "outputs": [],
   "source": [
    "categorical_columnst = [c for c in datat.columns if datat[c].dtype.name == 'object'] \n",
    "numerical_columnst   = [c for c in datat.columns if datat[c].dtype.name != 'object']"
   ]
  },
  {
   "cell_type": "code",
   "execution_count": 70,
   "metadata": {
    "scrolled": true
   },
   "outputs": [],
   "source": [
    "# for c in categorical_columns:\n",
    "#     print (c, data[c].unique())"
   ]
  },
  {
   "cell_type": "code",
   "execution_count": 71,
   "metadata": {
    "scrolled": true
   },
   "outputs": [],
   "source": [
    "# data.count(axis=0)"
   ]
  },
  {
   "cell_type": "code",
   "execution_count": 72,
   "metadata": {},
   "outputs": [],
   "source": [
    "# data_describe = data.describe(include=[object])"
   ]
  },
  {
   "cell_type": "code",
   "execution_count": 73,
   "metadata": {},
   "outputs": [],
   "source": [
    "# binary_columns = [c for c in categorical_columns if data_describe[c]['unique'] == 2]\n",
    "# nonbinary_columns = [c for c in categorical_columns if data_describe[c]['unique'] > 2]\n",
    "# print (binary_columns, nonbinary_columns)"
   ]
  },
  {
   "cell_type": "code",
   "execution_count": 74,
   "metadata": {
    "collapsed": true
   },
   "outputs": [],
   "source": [
    "# for c in binary_columns: #Ð½Ð°Ð¹ÑÐ°ÑÑÑÑÑ Ð·Ð½Ð°ÑÐµÐ½Ð½Ñ Ð·Ð°Ð¼ÑÐ½ÑÑÐ¼Ð¾ Ð½Ð° 0\n",
    "#     top = data_describe[c]['top']\n",
    "#     data.at[data[c] == top, c] = 0\n",
    "#     data.at[data[c] != 0, c] = 1"
   ]
  },
  {
   "cell_type": "code",
   "execution_count": 75,
   "metadata": {
    "collapsed": true,
    "scrolled": true
   },
   "outputs": [],
   "source": [
    "# data_nonbinary = pd.get_dummies(data[nonbinary_columns], dummy_na=False)\n",
    "# data_nonbinary.astype('int', copy=False)\n",
    "# # data_nonbinary.dtypes\n",
    "# # data_nonbinary"
   ]
  },
  {
   "cell_type": "code",
   "execution_count": 99,
   "metadata": {},
   "outputs": [],
   "source": [
    "data_numerical = data[numerical_columns]\n",
    "data_numerical = (data_numerical - data_numerical.mean()) / data_numerical.std()\n",
    "# data_numerical.describe()"
   ]
  },
  {
   "cell_type": "code",
   "execution_count": 100,
   "metadata": {},
   "outputs": [],
   "source": [
    "data_numericalt = datat[numerical_columns]\n",
    "data_numericalt = (data_numericalt - data_numericalt.mean()) / data_numericalt.std()\n",
    "# data_numericalt.describe()"
   ]
  },
  {
   "cell_type": "code",
   "execution_count": 101,
   "metadata": {},
   "outputs": [],
   "source": [
    "datax = data_numerical"
   ]
  },
  {
   "cell_type": "code",
   "execution_count": 102,
   "metadata": {
    "collapsed": true
   },
   "outputs": [],
   "source": [
    "dataxt = data_numericalt"
   ]
  },
  {
   "cell_type": "code",
   "execution_count": 266,
   "metadata": {},
   "outputs": [
    {
     "name": "stdout",
     "output_type": "stream",
     "text": [
      "(1492, 586)\n"
     ]
    }
   ],
   "source": [
    "# datax = pd.concat((data_numerical, data[binary_columns], data_nonbinary), axis=1)\n",
    "# datax = pd.DataFrame(datax, dtype=float)\n",
    "# print (datax.shape)"
   ]
  },
  {
   "cell_type": "code",
   "execution_count": 26,
   "metadata": {},
   "outputs": [
    {
     "data": {
      "text/plain": [
       "False"
      ]
     },
     "execution_count": 26,
     "metadata": {},
     "output_type": "execute_result"
    }
   ],
   "source": [
    "datax.isnull().values.any()"
   ]
  },
  {
   "cell_type": "code",
   "execution_count": 248,
   "metadata": {
    "collapsed": true
   },
   "outputs": [],
   "source": [
    "# datax = data.copy()"
   ]
  },
  {
   "cell_type": "code",
   "execution_count": 249,
   "metadata": {
    "collapsed": true
   },
   "outputs": [],
   "source": [
    "# datax = datax[['protocol']]"
   ]
  },
  {
   "cell_type": "code",
   "execution_count": 130,
   "metadata": {
    "collapsed": true
   },
   "outputs": [],
   "source": [
    "# datax = datax[['protocol', 'src', 'src_port', 'dst', 'dst_port', 'packets', 'bytes', 'flow_duration', 'inter_time_avg',\n",
    "#              'response_rel_time', 'C_duration_avg', 'C_number_of_contacts', 'dst2src_packets', 'src2dst_packets_rate']]"
   ]
  },
  {
   "cell_type": "code",
   "execution_count": 149,
   "metadata": {
    "collapsed": true
   },
   "outputs": [],
   "source": [
    "# datax['protocol'] = datax['protocol'].astype('category')\n",
    "# datax['src'] = datax['src'].astype('category')\n",
    "# datax['dst'] = datax['dst'].astype('category')"
   ]
  },
  {
   "cell_type": "code",
   "execution_count": 104,
   "metadata": {
    "scrolled": true
   },
   "outputs": [
    {
     "data": {
      "text/plain": [
       "protocol                float64\n",
       "src                     float64\n",
       "src_port                float64\n",
       "dst                     float64\n",
       "dst_port                float64\n",
       "packets                 float64\n",
       "bytes                   float64\n",
       "flow_duration           float64\n",
       "inter_time_avg          float64\n",
       "response_rel_time       float64\n",
       "C_duration_avg          float64\n",
       "C_number_of_contacts    float64\n",
       "dst2src_packets         float64\n",
       "src2dst_packets_rate    float64\n",
       "dtype: object"
      ]
     },
     "execution_count": 104,
     "metadata": {},
     "output_type": "execute_result"
    }
   ],
   "source": [
    "datax.dtypes"
   ]
  },
  {
   "cell_type": "code",
   "execution_count": 83,
   "metadata": {
    "collapsed": true
   },
   "outputs": [],
   "source": [
    "X_train = datax \n",
    "X_test = dataxt\n",
    "y_train = res\n",
    "y_test = rest"
   ]
  },
  {
   "cell_type": "code",
   "execution_count": 103,
   "metadata": {},
   "outputs": [
    {
     "name": "stdout",
     "output_type": "stream",
     "text": [
      "(12955, 14) (12955,)\n",
      "(1492, 14) (1492,)\n"
     ]
    }
   ],
   "source": [
    "print(X_train.shape, y_train.shape)\n",
    "print(X_test.shape, y_test.shape)"
   ]
  },
  {
   "cell_type": "code",
   "execution_count": 91,
   "metadata": {},
   "outputs": [
    {
     "name": "stdout",
     "output_type": "stream",
     "text": [
      "             precision    recall  f1-score   support\n",
      "\n",
      "          0       0.99      0.97      0.98       349\n",
      "          1       1.00      1.00      1.00     12606\n",
      "\n",
      "avg / total       1.00      1.00      1.00     12955\n",
      "\n",
      "             precision    recall  f1-score   support\n",
      "\n",
      "          0       0.48      0.24      0.32        95\n",
      "          1       0.95      0.98      0.97      1397\n",
      "\n",
      "avg / total       0.92      0.93      0.92      1492\n",
      "\n"
     ]
    }
   ],
   "source": [
    "from sklearn.neighbors import KNeighborsClassifier\n",
    "\n",
    "knn = KNeighborsClassifier()\n",
    "knn.fit(X_train, y_train)\n",
    "\n",
    "# y_train_predict = knn.predict(X_train)\n",
    "# y_test_predict = knn.predict(X_test)\n",
    "\n",
    "# err_train = np.mean(y_train != y_train_predict)\n",
    "# err_test  = np.mean(y_test  != y_test_predict)\n",
    "# print (err_train, err_test)\n",
    "print(classification_report(y_train, knn.predict(X_train)))\n",
    "print(classification_report(y_test, knn.predict(X_test)))"
   ]
  },
  {
   "cell_type": "code",
   "execution_count": 92,
   "metadata": {},
   "outputs": [
    {
     "name": "stdout",
     "output_type": "stream",
     "text": [
      "             precision    recall  f1-score   support\n",
      "\n",
      "          0       0.99      0.60      0.75       349\n",
      "          1       0.99      1.00      0.99     12606\n",
      "\n",
      "avg / total       0.99      0.99      0.99     12955\n",
      "\n",
      "             precision    recall  f1-score   support\n",
      "\n",
      "          0       0.39      0.15      0.21        95\n",
      "          1       0.94      0.98      0.96      1397\n",
      "\n",
      "avg / total       0.91      0.93      0.92      1492\n",
      "\n"
     ]
    }
   ],
   "source": [
    "from sklearn.svm import SVC #SVM!\n",
    "svc = SVC()\n",
    "svc.fit(X_train, y_train)\n",
    "\n",
    "# err_train = np.mean(y_train != svc.predict(X_train))\n",
    "# err_test  = np.mean(y_test  != svc.predict(X_test))\n",
    "# print (err_train, err_test)\n",
    "\n",
    "print(classification_report(y_train, svc.predict(X_train)))\n",
    "print(classification_report(y_test, svc.predict(X_test))) #"
   ]
  },
  {
   "cell_type": "code",
   "execution_count": 105,
   "metadata": {},
   "outputs": [
    {
     "name": "stdout",
     "output_type": "stream",
     "text": [
      "             precision    recall  f1-score   support\n",
      "\n",
      "          0       1.00      1.00      1.00       349\n",
      "          1       1.00      1.00      1.00     12606\n",
      "\n",
      "avg / total       1.00      1.00      1.00     12955\n",
      "\n",
      "             precision    recall  f1-score   support\n",
      "\n",
      "          0       0.09      0.64      0.15        95\n",
      "          1       0.96      0.54      0.69      1397\n",
      "\n",
      "avg / total       0.90      0.55      0.66      1492\n",
      "\n"
     ]
    }
   ],
   "source": [
    "from sklearn import tree\n",
    "\n",
    "clf = tree.DecisionTreeClassifier()\n",
    "clf = clf.fit(X_train, y_train)\n",
    "\n",
    "print(classification_report(y_train, clf.predict(X_train)))\n",
    "print(classification_report(y_test, clf.predict(X_test))) "
   ]
  },
  {
   "cell_type": "code",
   "execution_count": 93,
   "metadata": {},
   "outputs": [
    {
     "name": "stdout",
     "output_type": "stream",
     "text": [
      "             precision    recall  f1-score   support\n",
      "\n",
      "          0       1.00      1.00      1.00       349\n",
      "          1       1.00      1.00      1.00     12606\n",
      "\n",
      "avg / total       1.00      1.00      1.00     12955\n",
      "\n",
      "             precision    recall  f1-score   support\n",
      "\n",
      "          0       0.05      0.64      0.09        95\n",
      "          1       0.84      0.13      0.22      1397\n",
      "\n",
      "avg / total       0.79      0.16      0.21      1492\n",
      "\n"
     ]
    }
   ],
   "source": [
    "from sklearn import ensemble\n",
    "\n",
    "rf = ensemble.RandomForestClassifier(n_estimators=82, random_state=10)\n",
    "rf.fit(X_train, y_train)\n",
    "\n",
    "# err_train = np.mean(y_train != rf.predict(X_train))\n",
    "# err_test  = np.mean(y_test  != rf.predict(X_test))\n",
    "# print (err_train, err_test)\n",
    "\n",
    "print(classification_report(y_train, rf.predict(X_train)))\n",
    "print(classification_report(y_test, rf.predict(X_test))) #"
   ]
  },
  {
   "cell_type": "code",
   "execution_count": 94,
   "metadata": {},
   "outputs": [
    {
     "name": "stdout",
     "output_type": "stream",
     "text": [
      "             precision    recall  f1-score   support\n",
      "\n",
      "          0       1.00      1.00      1.00       349\n",
      "          1       1.00      1.00      1.00     12606\n",
      "\n",
      "avg / total       1.00      1.00      1.00     12955\n",
      "\n",
      "             precision    recall  f1-score   support\n",
      "\n",
      "          0       0.09      0.63      0.15        95\n",
      "          1       0.96      0.54      0.69      1397\n",
      "\n",
      "avg / total       0.90      0.55      0.66      1492\n",
      "\n"
     ]
    }
   ],
   "source": [
    "#GRADIENTBOOSTING\n",
    "gbt = ensemble.GradientBoostingClassifier(n_estimators=105, random_state=None)\n",
    "gbt.fit(X_train, y_train)\n",
    "\n",
    "# err_train = np.mean(y_train != gbt.predict(X_train))\n",
    "# err_test = np.mean(y_test != gbt.predict(X_test))\n",
    "# print (err_train, err_test)\n",
    "\n",
    "print(classification_report(y_train, gbt.predict(X_train)))\n",
    "print(classification_report(y_test, gbt.predict(X_test))) #"
   ]
  },
  {
   "cell_type": "code",
   "execution_count": 95,
   "metadata": {},
   "outputs": [
    {
     "name": "stdout",
     "output_type": "stream",
     "text": [
      "             precision    recall  f1-score   support\n",
      "\n",
      "          0       0.93      1.00      0.96       349\n",
      "          1       1.00      1.00      1.00     12606\n",
      "\n",
      "avg / total       1.00      1.00      1.00     12955\n",
      "\n",
      "             precision    recall  f1-score   support\n",
      "\n",
      "          0       0.44      0.34      0.38        95\n",
      "          1       0.96      0.97      0.96      1397\n",
      "\n",
      "avg / total       0.92      0.93      0.93      1492\n",
      "\n"
     ]
    }
   ],
   "source": [
    "from sklearn.neural_network import MLPClassifier\n",
    "clf = MLPClassifier(solver='lbfgs', alpha=1e-5, \n",
    "                    hidden_layer_sizes=(5, 2), random_state=1)\n",
    "clf.fit(X_train, y_train)\n",
    "\n",
    "# err_train = np.mean(y_train != clf.predict(X_train))\n",
    "# err_test = np.mean(y_test != clf.predict(X_test))\n",
    "# print (err_train, err_test)\n",
    "\n",
    "print(classification_report(y_train, clf.predict(X_train)))\n",
    "print(classification_report(y_test, clf.predict(X_test))) #"
   ]
  },
  {
   "cell_type": "code",
   "execution_count": 96,
   "metadata": {},
   "outputs": [
    {
     "name": "stdout",
     "output_type": "stream",
     "text": [
      "             precision    recall  f1-score   support\n",
      "\n",
      "          0       0.92      0.26      0.40       349\n",
      "          1       0.98      1.00      0.99     12606\n",
      "\n",
      "avg / total       0.98      0.98      0.97     12955\n",
      "\n",
      "             precision    recall  f1-score   support\n",
      "\n",
      "          0       0.05      0.61      0.09        95\n",
      "          1       0.85      0.15      0.26      1397\n",
      "\n",
      "avg / total       0.80      0.18      0.25      1492\n",
      "\n"
     ]
    }
   ],
   "source": [
    "# Stochastic Gradient Descent\n",
    "\n",
    "from sklearn.linear_model import SGDClassifier\n",
    "\n",
    "clf = SGDClassifier(loss=\"hinge\", penalty=\"l1\")\n",
    "#clf = SGDClassifier(loss=\"log\")\n",
    "clf.fit(X_train, y_train)\n",
    "\n",
    "# err_train = np.mean(y_train != clf.predict(X_train))\n",
    "# err_test = np.mean(y_test != clf.predict(X_test))\n",
    "# print (err_train, err_test)\n",
    "\n",
    "print(classification_report(y_train, clf.predict(X_train)))\n",
    "print(classification_report(y_test, clf.predict(X_test))) #"
   ]
  },
  {
   "cell_type": "code",
   "execution_count": 97,
   "metadata": {},
   "outputs": [
    {
     "name": "stdout",
     "output_type": "stream",
     "text": [
      "             precision    recall  f1-score   support\n",
      "\n",
      "          0       0.78      0.58      0.66       349\n",
      "          1       0.99      1.00      0.99     12606\n",
      "\n",
      "avg / total       0.98      0.98      0.98     12955\n",
      "\n",
      "             precision    recall  f1-score   support\n",
      "\n",
      "          0       0.00      0.00      0.00        95\n",
      "          1       0.94      1.00      0.97      1397\n",
      "\n",
      "avg / total       0.88      0.94      0.91      1492\n",
      "\n"
     ]
    },
    {
     "name": "stderr",
     "output_type": "stream",
     "text": [
      "/home/nbuser/anaconda3_23/lib/python3.4/site-packages/sklearn/metrics/classification.py:1113: UndefinedMetricWarning: Precision and F-score are ill-defined and being set to 0.0 in labels with no predicted samples.\n",
      "  'precision', 'predicted', average, warn_for)\n"
     ]
    }
   ],
   "source": [
    "#Gaussian Naive Bayes\n",
    "\n",
    "from sklearn.naive_bayes import GaussianNB\n",
    "gnb = GaussianNB()\n",
    "gnb.fit(X_train, y_train)\n",
    "\n",
    "# err_train = np.mean(y_train != gnb.predict(X_train))\n",
    "# err_test = np.mean(y_test != gnb.predict(X_test))\n",
    "# print (err_train, err_test)\n",
    "\n",
    "print(classification_report(y_train, gnb.predict(X_train)))\n",
    "print(classification_report(y_test, gnb.predict(X_test))) #"
   ]
  },
  {
   "cell_type": "code",
   "execution_count": null,
   "metadata": {
    "collapsed": true
   },
   "outputs": [],
   "source": []
  }
 ],
 "metadata": {
  "kernelspec": {
   "display_name": "Python 3",
   "language": "python",
   "name": "python3"
  },
  "language_info": {
   "codemirror_mode": {
    "name": "ipython",
    "version": 3
   },
   "file_extension": ".py",
   "mimetype": "text/x-python",
   "name": "python",
   "nbconvert_exporter": "python",
   "pygments_lexer": "ipython3",
   "version": "3.5.3"
  }
 },
 "nbformat": 4,
 "nbformat_minor": 1
}
